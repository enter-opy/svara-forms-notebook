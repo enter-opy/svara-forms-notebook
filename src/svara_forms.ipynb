{
 "cells": [
  {
   "cell_type": "markdown",
   "metadata": {
    "id": "JKdIjUwhYX_r"
   },
   "source": [
    "\n",
    "\n",
    "# Svara forms\n",
    "\n"
   ]
  },
  {
   "cell_type": "markdown",
   "metadata": {
    "id": "Eb5QKvqtSFTC"
   },
   "source": [
    "## Imports"
   ]
  },
  {
   "cell_type": "code",
   "execution_count": 30,
   "metadata": {
    "id": "EqysIBxaX1jC"
   },
   "outputs": [],
   "source": [
    "import random\n",
    "import numpy as np\n",
    "import pandas as pd\n",
    "import compiam\n",
    "import matplotlib.pyplot as plt\n",
    "from collections import Counter\n",
    "import tqdm\n",
    "import random\n",
    "from fastdtw import fastdtw\n",
    "import sklearn"
   ]
  },
  {
   "cell_type": "markdown",
   "metadata": {
    "id": "kkvLnPnCYehi"
   },
   "source": [
    "## Pitch extraction"
   ]
  },
  {
   "cell_type": "markdown",
   "metadata": {},
   "source": [
    ">First, we need to extract pitch from the recording. For that, we need to load the pretrained FTA-Net model. To load the model, we use the `compiam.load_model()` wrapper."
   ]
  },
  {
   "cell_type": "code",
   "execution_count": 20,
   "metadata": {
    "id": "HGFLCpBbX4gs"
   },
   "outputs": [],
   "source": [
    "ftanet_carnatic = compiam.load_model(\"melody:ftanet-carnatic\")"
   ]
  },
  {
   "cell_type": "code",
   "execution_count": 21,
   "metadata": {
    "colab": {
     "base_uri": "https://localhost:8080/"
    },
    "id": "lJMpNVZCYNBp",
    "outputId": "bf7bafc1-31ec-44cc-ec93-d085862779be"
   },
   "outputs": [
    {
     "name": "stdout",
     "output_type": "stream",
     "text": [
      "1/1 [==============================] - 16s 16s/step\n",
      "1/1 [==============================] - 13s 13s/step\n",
      "1/1 [==============================] - 12s 12s/step\n",
      "1/1 [==============================] - 14s 14s/step\n",
      "1/1 [==============================] - 13s 13s/step\n",
      "1/1 [==============================] - 13s 13s/step\n",
      "1/1 [==============================] - 13s 13s/step\n",
      "1/1 [==============================] - 13s 13s/step\n",
      "1/1 [==============================] - 13s 13s/step\n",
      "1/1 [==============================] - 13s 13s/step\n",
      "1/1 [==============================] - 13s 13s/step\n",
      "1/1 [==============================] - 13s 13s/step\n",
      "1/1 [==============================] - 13s 13s/step\n",
      "1/1 [==============================] - 13s 13s/step\n",
      "1/1 [==============================] - 13s 13s/step\n",
      "1/1 [==============================] - 13s 13s/step\n",
      "1/1 [==============================] - 12s 12s/step\n",
      "1/1 [==============================] - 13s 13s/step\n",
      "1/1 [==============================] - 12s 12s/step\n",
      "1/1 [==============================] - 13s 13s/step\n",
      "1/1 [==============================] - 13s 13s/step\n",
      "1/1 [==============================] - 13s 13s/step\n",
      "1/1 [==============================] - 13s 13s/step\n",
      "1/1 [==============================] - 13s 13s/step\n",
      "1/1 [==============================] - 13s 13s/step\n",
      "1/1 [==============================] - 13s 13s/step\n",
      "1/1 [==============================] - 13s 13s/step\n",
      "1/1 [==============================] - 13s 13s/step\n",
      "1/1 [==============================] - 13s 13s/step\n",
      "1/1 [==============================] - 13s 13s/step\n",
      "1/1 [==============================] - 13s 13s/step\n",
      "1/1 [==============================] - 17s 17s/step\n",
      "1/1 [==============================] - 15s 15s/step\n",
      "1/1 [==============================] - 13s 13s/step\n",
      "1/1 [==============================] - 12s 12s/step\n",
      "1/1 [==============================] - 6s 6s/step\n"
     ]
    }
   ],
   "source": [
    "ftanet_pitch_track = ftanet_carnatic.predict('/content/drive/MyDrive/raksha_bettare.wav', hop_size=30)"
   ]
  },
  {
   "cell_type": "markdown",
   "metadata": {},
   "source": [
    ">FTA-Net inference is computationally expensive, so we can save the pitch track and load it later. This way, we don’t have to estimate the pitch track each time."
   ]
  },
  {
   "cell_type": "code",
   "execution_count": null,
   "metadata": {},
   "outputs": [],
   "source": [
    "np.save('ftanet_pitch_track.npy', ftanet_pitch_track)"
   ]
  },
  {
   "cell_type": "code",
   "execution_count": 2,
   "metadata": {},
   "outputs": [],
   "source": [
    "ftanet_pitch_track = np.load('ftanet_pitch_track.npy')"
   ]
  },
  {
   "cell_type": "markdown",
   "metadata": {
    "id": "wgz0QrZOchK8"
   },
   "source": [
    "## Preprocessing\n",
    "\n",
    ">In order to perform DTW and clustering, we need to preprocess the data. This includes smoothing, interpolation, and converting to cents."
   ]
  },
  {
   "cell_type": "markdown",
   "metadata": {},
   "source": [
    "## Import scripts\n",
    "\n",
    "Let's import some utility functions to preprocess the pitch tracks."
   ]
  },
  {
   "cell_type": "code",
   "execution_count": 3,
   "metadata": {
    "id": "W99uoCUWUj_T"
   },
   "outputs": [],
   "source": [
    "from src.utils import (\n",
    "    load_json, load_pitch_track, write_pitch_track, cpath, load_annotations, get_plot_kwargs,\n",
    "    pitch_seq_to_cents, subsample_series, interpolate_below_length, smooth_pitch_curve,\n",
    "    align_time_series, write_pkl, expand_zero_regions)\n",
    "\n",
    "from src.utils import (\n",
    "    load_json, load_pitch_track, write_pitch_track, cpath, load_annotations, get_plot_kwargs, \n",
    "    pitch_seq_to_cents, subsample_series, interpolate_below_length, smooth_pitch_curve,\n",
    "    align_time_series, write_pkl, load_pkl, remove_leading_trailing_nans)\n",
    "\n",
    "from src.pitch import transpose_pitch"
   ]
  },
  {
   "cell_type": "markdown",
   "metadata": {},
   "source": [
    "## Load the metadata"
   ]
  },
  {
   "cell_type": "code",
   "execution_count": 4,
   "metadata": {
    "id": "u7hBMQTKVJg8"
   },
   "outputs": [],
   "source": [
    "metadata_path = 'data/metadata.json'\n",
    "data = load_json(metadata_path)"
   ]
  },
  {
   "cell_type": "code",
   "execution_count": 5,
   "metadata": {
    "id": "XtszCKNehLp_"
   },
   "outputs": [
    {
     "name": "stderr",
     "output_type": "stream",
     "text": [
      "/mnt/c/Users/vivek/Desktop/svara-forms-notebook/src/utils.py:64: UserWarning: Could not infer format, so each element will be parsed individually, falling back to `dateutil`. To ensure parsing is consistent and as-expected, please specify a format.\n",
      "  df['start'] = pd.to_datetime(df['start'])\n",
      "/mnt/c/Users/vivek/Desktop/svara-forms-notebook/src/utils.py:65: UserWarning: Could not infer format, so each element will be parsed individually, falling back to `dateutil`. To ensure parsing is consistent and as-expected, please specify a format.\n",
      "  df['end'] = pd.to_datetime(df['end'])\n"
     ]
    }
   ],
   "source": [
    "pitch_raw = ftanet_pitch_track[:, 1]\n",
    "times_raw = ftanet_pitch_track[:, 0]\n",
    "timestep_raw = times_raw[3] - times_raw[2]\n",
    "beat_length = data[\"raksha_bettare\"]['beat_length']\n",
    "tonic = data[\"raksha_bettare\"]['tonic']\n",
    "annotations_path = f\"{data['raksha_bettare']['annotations_path']}\"\n",
    "annotations = load_annotations(annotations_path)"
   ]
  },
  {
   "cell_type": "code",
   "execution_count": 6,
   "metadata": {
    "colab": {
     "base_uri": "https://localhost:8080/",
     "height": 206
    },
    "id": "kbx9RqPFjtGk",
    "outputId": "3c9afcc7-d79e-4e60-dfcc-81a3e28515ec"
   },
   "outputs": [
    {
     "data": {
      "text/html": [
       "<div>\n",
       "<style scoped>\n",
       "    .dataframe tbody tr th:only-of-type {\n",
       "        vertical-align: middle;\n",
       "    }\n",
       "\n",
       "    .dataframe tbody tr th {\n",
       "        vertical-align: top;\n",
       "    }\n",
       "\n",
       "    .dataframe thead th {\n",
       "        text-align: right;\n",
       "    }\n",
       "</style>\n",
       "<table border=\"1\" class=\"dataframe\">\n",
       "  <thead>\n",
       "    <tr style=\"text-align: right;\">\n",
       "      <th></th>\n",
       "      <th>start</th>\n",
       "      <th>end</th>\n",
       "      <th>start_sec</th>\n",
       "      <th>end_sec</th>\n",
       "      <th>label</th>\n",
       "    </tr>\n",
       "  </thead>\n",
       "  <tbody>\n",
       "    <tr>\n",
       "      <th>0</th>\n",
       "      <td>2025-04-01 00:00:03.417</td>\n",
       "      <td>2025-04-01 00:00:04.342</td>\n",
       "      <td>3.417</td>\n",
       "      <td>4.342</td>\n",
       "      <td>ri</td>\n",
       "    </tr>\n",
       "    <tr>\n",
       "      <th>1</th>\n",
       "      <td>2025-04-01 00:00:04.342</td>\n",
       "      <td>2025-04-01 00:00:04.855</td>\n",
       "      <td>4.342</td>\n",
       "      <td>4.855</td>\n",
       "      <td>ni</td>\n",
       "    </tr>\n",
       "    <tr>\n",
       "      <th>2</th>\n",
       "      <td>2025-04-01 00:00:04.855</td>\n",
       "      <td>2025-04-01 00:00:06.041</td>\n",
       "      <td>4.855</td>\n",
       "      <td>6.041</td>\n",
       "      <td>sa</td>\n",
       "    </tr>\n",
       "    <tr>\n",
       "      <th>3</th>\n",
       "      <td>2025-04-01 00:00:06.501</td>\n",
       "      <td>2025-04-01 00:00:07.813</td>\n",
       "      <td>6.501</td>\n",
       "      <td>7.813</td>\n",
       "      <td>ri</td>\n",
       "    </tr>\n",
       "    <tr>\n",
       "      <th>4</th>\n",
       "      <td>2025-04-01 00:00:07.960</td>\n",
       "      <td>2025-04-01 00:00:09.455</td>\n",
       "      <td>7.960</td>\n",
       "      <td>9.455</td>\n",
       "      <td>ga</td>\n",
       "    </tr>\n",
       "  </tbody>\n",
       "</table>\n",
       "</div>"
      ],
      "text/plain": [
       "                    start                     end  start_sec  end_sec label\n",
       "0 2025-04-01 00:00:03.417 2025-04-01 00:00:04.342      3.417    4.342    ri\n",
       "1 2025-04-01 00:00:04.342 2025-04-01 00:00:04.855      4.342    4.855    ni\n",
       "2 2025-04-01 00:00:04.855 2025-04-01 00:00:06.041      4.855    6.041    sa\n",
       "3 2025-04-01 00:00:06.501 2025-04-01 00:00:07.813      6.501    7.813    ri\n",
       "4 2025-04-01 00:00:07.960 2025-04-01 00:00:09.455      7.960    9.455    ga"
      ]
     },
     "execution_count": 6,
     "metadata": {},
     "output_type": "execute_result"
    }
   ],
   "source": [
    "annotations.head()"
   ]
  },
  {
   "cell_type": "code",
   "execution_count": 7,
   "metadata": {
    "id": "NqzSvpc2kZox"
   },
   "outputs": [],
   "source": [
    "boundaries = np.concatenate([annotations['start_sec'].values, annotations['end_sec'].values])\n",
    "boundaries_seq = [round(b/timestep_raw) for b in boundaries]"
   ]
  },
  {
   "cell_type": "markdown",
   "metadata": {},
   "source": []
  },
  {
   "cell_type": "code",
   "execution_count": 8,
   "metadata": {
    "id": "CzKbbwoFkqwA"
   },
   "outputs": [],
   "source": [
    "pitch = expand_zero_regions(pitch_raw, round(0.02/timestep_raw))"
   ]
  },
  {
   "cell_type": "markdown",
   "metadata": {},
   "source": [
    "## Interpolation"
   ]
  },
  {
   "cell_type": "code",
   "execution_count": 9,
   "metadata": {
    "id": "NPETuFPWn3Dz"
   },
   "outputs": [],
   "source": [
    "interp = 100\n",
    "smoothing_factor = 0.4\n",
    "subsample = 0.5\n",
    "plot = False\n",
    "plot_sample = None\n",
    "out_path = 'data/bhairavi.pkl'\n",
    "svaras = ['sa', 'ri', 'ga', 'ma', 'pa', 'dha', 'ni']\n",
    "min_len_prop = 0.6\n",
    "max_ran = 800\n",
    "train_size = 0.8\n",
    "test_size = 0.2"
   ]
  },
  {
   "cell_type": "code",
   "execution_count": 10,
   "metadata": {
    "id": "_Js8YhJonpSS"
   },
   "outputs": [],
   "source": [
    "# Interpolation\n",
    "pitch = interpolate_below_length(pitch, 0, (interp*0.001/timestep_raw), boundaries_seq)\n",
    "\n",
    "null_ind = pitch==0\n",
    "\n",
    "pitch[pitch<50]=0\n",
    "pitch[null_ind]=0"
   ]
  },
  {
   "cell_type": "code",
   "execution_count": 11,
   "metadata": {
    "id": "fuZOzz91nwM2"
   },
   "outputs": [],
   "source": [
    "# Convert pitch to cents\n",
    "pitch = pitch_seq_to_cents(pitch, tonic=tonic)\n",
    "\n",
    "# subsample\n",
    "time, pitch = subsample_series(times_raw, pitch, subsample)\n",
    "\n",
    "# beats\n",
    "time_beat = time/beat_length\n",
    "\n",
    "# smoothing\n",
    "pitch = smooth_pitch_curve(time_beat, pitch, smoothing_factor=smoothing_factor)\n",
    "\n",
    "timestep = time_beat[3] - time_beat[2]"
   ]
  },
  {
   "cell_type": "code",
   "execution_count": 12,
   "metadata": {
    "colab": {
     "base_uri": "https://localhost:8080/",
     "height": 463
    },
    "id": "DyxAbIEdoEwv",
    "outputId": "c1a07099-69b2-4c58-c01b-a81585d9994f"
   },
   "outputs": [
    {
     "data": {
      "text/plain": [
       "[<matplotlib.lines.Line2D at 0x7fc9985d1870>]"
      ]
     },
     "execution_count": 12,
     "metadata": {},
     "output_type": "execute_result"
    },
    {
     "data": {
      "image/png": "[encoded data removed]",
      "text/plain": [
       "<Figure size 1500x500 with 1 Axes>"
      ]
     },
     "metadata": {},
     "output_type": "display_data"
    }
   ],
   "source": [
    "plt.figure(figsize=(15, 5))\n",
    "plt.plot(pitch)"
   ]
  },
  {
   "cell_type": "markdown",
   "metadata": {},
   "source": [
    "## Segment"
   ]
  },
  {
   "cell_type": "code",
   "execution_count": 13,
   "metadata": {
    "id": "p91Qu0dRqPur"
   },
   "outputs": [],
   "source": [
    "all_svaras = []\n",
    "\n",
    "for i, row in annotations.iterrows():\n",
    "    start = row['start_sec']\n",
    "    end = row['end_sec']\n",
    "    label = row['label']\n",
    "\n",
    "    # Skip unknown labels\n",
    "    if label not in svaras:\n",
    "        continue\n",
    "    \n",
    "    s1_beat = start/beat_length\n",
    "    s2_beat = end/beat_length\n",
    "    \n",
    "    s1 = round(s1_beat/timestep)\n",
    "    s2 = round(s2_beat/timestep)\n",
    "\n",
    "    psamp = pitch[s1:s2]\n",
    "    psamp = remove_leading_trailing_nans(psamp)\n",
    "\n",
    "    # Skip if there is silence in pitch track    \n",
    "    if len(psamp) == 0 or len(psamp)/len(pitch[s1:s2]) <= min_len_prop or sum(np.isnan(psamp)>0):\n",
    "        continue\n",
    "\n",
    "    psamp, trans = transpose_pitch(psamp)\n",
    "\n",
    "    ran = max(psamp)-min(psamp)\n",
    "    \n",
    "    # exclude incorrectly extracted time series\n",
    "    if ran > max_ran:\n",
    "        continue\n",
    "\n",
    "    all_svaras.append((svaras.index(label), psamp, i, list(data.keys())[1]))"
   ]
  },
  {
   "cell_type": "code",
   "execution_count": 14,
   "metadata": {},
   "outputs": [
    {
     "name": "stdout",
     "output_type": "stream",
     "text": [
      "65 instances of ri\n",
      "78 instances of ni\n",
      "57 instances of sa\n",
      "59 instances of ga\n",
      "41 instances of ma\n",
      "62 instances of pa\n",
      "83 instances of dha\n"
     ]
    }
   ],
   "source": [
    "counted = Counter([x[0] for x in all_svaras])\n",
    "for k,v in counted.items():\n",
    "    print(f\"{v} instances of {svaras[k]}\")"
   ]
  },
  {
   "cell_type": "code",
   "execution_count": 15,
   "metadata": {},
   "outputs": [],
   "source": [
    "n_max = max(counted.values())\n",
    "for svara in range(len(svaras)):\n",
    "    these_svaras = [x for x in all_svaras if x[0]==svara]\n",
    "    if len(these_svaras) == 0:\n",
    "        continue\n",
    "    n = len(these_svaras)\n",
    "    while n < n_max:\n",
    "        this_svara = random.choice(these_svaras)\n",
    "        all_svaras.append(this_svara)\n",
    "        n += 1"
   ]
  },
  {
   "cell_type": "code",
   "execution_count": 16,
   "metadata": {},
   "outputs": [
    {
     "name": "stdout",
     "output_type": "stream",
     "text": [
      "83 instances of ri\n",
      "83 instances of ni\n",
      "83 instances of sa\n",
      "83 instances of ga\n",
      "83 instances of ma\n",
      "83 instances of pa\n",
      "83 instances of dha\n"
     ]
    }
   ],
   "source": [
    "counted = Counter([x[0] for x in all_svaras])\n",
    "for k,v in counted.items():\n",
    "    print(f\"{v} instances of {svaras[k]}\")"
   ]
  },
  {
   "cell_type": "code",
   "execution_count": 17,
   "metadata": {},
   "outputs": [],
   "source": [
    "random.shuffle(all_svaras)"
   ]
  },
  {
   "cell_type": "code",
   "execution_count": 18,
   "metadata": {},
   "outputs": [],
   "source": [
    "train_data = all_svaras[:round(train_size*len(all_svaras))]\n",
    "test_data = all_svaras[round(train_size*len(all_svaras)):]"
   ]
  },
  {
   "cell_type": "markdown",
   "metadata": {},
   "source": [
    "# DTW"
   ]
  },
  {
   "cell_type": "code",
   "execution_count": 19,
   "metadata": {},
   "outputs": [],
   "source": [
    "samp = None\n",
    "r = 0.3\n",
    "norm = False"
   ]
  },
  {
   "cell_type": "code",
   "execution_count": 20,
   "metadata": {},
   "outputs": [
    {
     "name": "stderr",
     "output_type": "stream",
     "text": [
      "100%|█████████████████████████████████████████████████████████████████████████████████| 581/581 [03:03<00:00,  3.16it/s]\n"
     ]
    }
   ],
   "source": [
    "dtw_distances = list()\n",
    "\n",
    "for i in tqdm.tqdm(list(range(len(all_svaras)))):\n",
    "    for j in range(len(all_svaras)):\n",
    "        jl, jpsamp, jannot_ix, jtrack = all_svaras[j]\n",
    "        il, ipsamp, iannot_ix, itrack = all_svaras[i]\n",
    "\n",
    "        if jl != il:\n",
    "            continue\n",
    "\n",
    "        if il > jl:\n",
    "            continue\n",
    "\n",
    "        l_longest = np.max([len(ipsamp), len(jpsamp)])\n",
    "        radius = round(l_longest*r)\n",
    "        \n",
    "        if radius < 2:\n",
    "            radius = 2\n",
    "\n",
    "        # Compute DTW distance between ipsamp and jpsamp\n",
    "        #path, distance = dtw_path(ipsamp, jpsamp, radius=radius, norm=norm)\n",
    "        distance, path = fastdtw(ipsamp, jpsamp, dist=lambda x, y: np.linalg.norm(x - y))\n",
    "        distance = distance/len(path)\n",
    "\n",
    "        dtw_distances.append({\n",
    "            'index1': j,\n",
    "            'index2': i,\n",
    "            'dtw': distance\n",
    "        })"
   ]
  },
  {
   "cell_type": "code",
   "execution_count": 23,
   "metadata": {},
   "outputs": [
    {
     "data": {
      "text/html": [
       "<div>\n",
       "<style scoped>\n",
       "    .dataframe tbody tr th:only-of-type {\n",
       "        vertical-align: middle;\n",
       "    }\n",
       "\n",
       "    .dataframe tbody tr th {\n",
       "        vertical-align: top;\n",
       "    }\n",
       "\n",
       "    .dataframe thead th {\n",
       "        text-align: right;\n",
       "    }\n",
       "</style>\n",
       "<table border=\"1\" class=\"dataframe\">\n",
       "  <thead>\n",
       "    <tr style=\"text-align: right;\">\n",
       "      <th></th>\n",
       "      <th>index1</th>\n",
       "      <th>index2</th>\n",
       "      <th>dtw</th>\n",
       "    </tr>\n",
       "  </thead>\n",
       "  <tbody>\n",
       "    <tr>\n",
       "      <th>0</th>\n",
       "      <td>0</td>\n",
       "      <td>0</td>\n",
       "      <td>0.000000</td>\n",
       "    </tr>\n",
       "    <tr>\n",
       "      <th>1</th>\n",
       "      <td>2</td>\n",
       "      <td>0</td>\n",
       "      <td>91.094975</td>\n",
       "    </tr>\n",
       "    <tr>\n",
       "      <th>2</th>\n",
       "      <td>8</td>\n",
       "      <td>0</td>\n",
       "      <td>37.352984</td>\n",
       "    </tr>\n",
       "    <tr>\n",
       "      <th>3</th>\n",
       "      <td>34</td>\n",
       "      <td>0</td>\n",
       "      <td>45.517291</td>\n",
       "    </tr>\n",
       "    <tr>\n",
       "      <th>4</th>\n",
       "      <td>36</td>\n",
       "      <td>0</td>\n",
       "      <td>63.338211</td>\n",
       "    </tr>\n",
       "  </tbody>\n",
       "</table>\n",
       "</div>"
      ],
      "text/plain": [
       "   index1  index2        dtw\n",
       "0       0       0   0.000000\n",
       "1       2       0  91.094975\n",
       "2       8       0  37.352984\n",
       "3      34       0  45.517291\n",
       "4      36       0  63.338211"
      ]
     },
     "execution_count": 23,
     "metadata": {},
     "output_type": "execute_result"
    }
   ],
   "source": [
    "dtw_distances = pd.DataFrame(dtw_distances)\n",
    "dtw_distances.head()"
   ]
  },
  {
   "cell_type": "code",
   "execution_count": 24,
   "metadata": {},
   "outputs": [],
   "source": [
    "from bad import bad"
   ]
  },
  {
   "cell_type": "code",
   "execution_count": 25,
   "metadata": {},
   "outputs": [],
   "source": [
    "allowed_indices = []\n",
    "tested = []\n",
    "for i in range(len(all_svaras)):\n",
    "    j, psamp, annot_ix, track = all_svaras[i]\n",
    "    t = f'{track}_{annot_ix}'\n",
    "    if t not in tested and t not in bad:\n",
    "        allowed_indices.append(i)\n",
    "    tested.append(t)"
   ]
  },
  {
   "cell_type": "code",
   "execution_count": 26,
   "metadata": {},
   "outputs": [],
   "source": [
    "distance_dict = {}\n",
    "for i, (i1,i2,dist) in dtw_distances.iterrows():\n",
    "    i1 = int(i1)\n",
    "    i2 = int(i2)\n",
    "    if i1 not in distance_dict:\n",
    "        distance_dict[i1] = {}\n",
    "\n",
    "    distance_dict[i1][i2] = dist"
   ]
  },
  {
   "cell_type": "markdown",
   "metadata": {},
   "source": [
    "# Clustering"
   ]
  },
  {
   "cell_type": "code",
   "execution_count": 27,
   "metadata": {},
   "outputs": [],
   "source": [
    "allowed_indices = []\n",
    "tested = []\n",
    "for i in range(len(all_svaras)):\n",
    "    j, psamp, annot_ix, track = all_svaras[i]\n",
    "    t = f'{track}_{annot_ix}'\n",
    "    if t not in tested and t not in bad:\n",
    "        allowed_indices.append(i)\n",
    "    tested.append(t)"
   ]
  },
  {
   "cell_type": "code",
   "execution_count": 29,
   "metadata": {},
   "outputs": [],
   "source": [
    "clust_data = {s:{} for s in svaras}\n",
    "for svara in svaras:\n",
    "\n",
    "    svara_ix = svaras.index(svara)\n",
    "\n",
    "    # Get data for this svara\n",
    "    ix = [i for i,x in enumerate(all_svaras) if x[0]==svara_ix and i in allowed_indices]\n",
    "\n",
    "    clust_data[svara]['ix'] = ix"
   ]
  },
  {
   "cell_type": "code",
   "execution_count": 31,
   "metadata": {},
   "outputs": [
    {
     "name": "stdout",
     "output_type": "stream",
     "text": [
      "Clustering...\n",
      "    Clustering svara sa\n"
     ]
    },
    {
     "ename": "NameError",
     "evalue": "name 'all_X' is not defined",
     "output_type": "error",
     "traceback": [
      "\u001b[0;31m---------------------------------------------------------------------------\u001b[0m",
      "\u001b[0;31mNameError\u001b[0m                                 Traceback (most recent call last)",
      "Cell \u001b[0;32mIn[31], line 9\u001b[0m\n\u001b[1;32m      4\u001b[0m \u001b[38;5;28mprint\u001b[39m(\u001b[38;5;124mf\u001b[39m\u001b[38;5;124m'\u001b[39m\u001b[38;5;124m    Clustering svara \u001b[39m\u001b[38;5;132;01m{\u001b[39;00msvara\u001b[38;5;132;01m}\u001b[39;00m\u001b[38;5;124m'\u001b[39m)\n\u001b[1;32m      6\u001b[0m ix \u001b[38;5;241m=\u001b[39m clust_data[svara][\u001b[38;5;124m'\u001b[39m\u001b[38;5;124mix\u001b[39m\u001b[38;5;124m'\u001b[39m]\n\u001b[0;32m----> 9\u001b[0m X \u001b[38;5;241m=\u001b[39m \u001b[43mall_X\u001b[49m[ix, :][:, ix]\n\u001b[1;32m     10\u001b[0m X \u001b[38;5;241m=\u001b[39m sklearn\u001b[38;5;241m.\u001b[39mpreprocessing\u001b[38;5;241m.\u001b[39mnormalize(X)\n\u001b[1;32m     12\u001b[0m clus_labels \u001b[38;5;241m=\u001b[39m dbscan_precomp(X, \u001b[38;5;241m*\u001b[39m\u001b[38;5;241m*\u001b[39mk)\n",
      "\u001b[0;31mNameError\u001b[0m: name 'all_X' is not defined"
     ]
    }
   ],
   "source": [
    "print('Clustering...')\n",
    "clustering = {}\n",
    "for svara in svaras:\n",
    "    print(f'    Clustering svara {svara}')\n",
    "    \n",
    "    ix = clust_data[svara]['ix']\n",
    "    \n",
    "\n",
    "    X = all_X[ix, :][:, ix]\n",
    "    X = sklearn.preprocessing.normalize(X)\n",
    "\n",
    "    clus_labels = dbscan_precomp(X, **k)\n",
    "\n",
    "    print(f'      n_clusters: {max(clus_labels)}')\n",
    "    clustering[svara] = {'labels':clus_labels, 'ix':ix}"
   ]
  },
  {
   "cell_type": "code",
   "execution_count": null,
   "metadata": {},
   "outputs": [],
   "source": []
  }
 ],
 "metadata": {
  "colab": {
   "provenance": []
  },
  "kernelspec": {
   "display_name": "Python 3 (ipykernel)",
   "language": "python",
   "name": "python3"
  },
  "language_info": {
   "codemirror_mode": {
    "name": "ipython",
    "version": 3
   },
   "file_extension": ".py",
   "mimetype": "text/x-python",
   "name": "python",
   "nbconvert_exporter": "python",
   "pygments_lexer": "ipython3",
   "version": "3.10.0"
  }
 },
 "nbformat": 4,
 "nbformat_minor": 4
}
